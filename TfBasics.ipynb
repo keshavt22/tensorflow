{
  "nbformat": 4,
  "nbformat_minor": 0,
  "metadata": {
    "colab": {
      "name": "TfBasics.ipynb",
      "version": "0.3.2",
      "provenance": [],
      "include_colab_link": true
    },
    "kernelspec": {
      "name": "python3",
      "display_name": "Python 3"
    },
    "accelerator": "GPU"
  },
  "cells": [
    {
      "cell_type": "markdown",
      "metadata": {
        "id": "view-in-github",
        "colab_type": "text"
      },
      "source": [
        "<a href=\"https://colab.research.google.com/github/harshitadd/tensorflow/blob/master/TfBasics.ipynb\" target=\"_parent\"><img src=\"https://colab.research.google.com/assets/colab-badge.svg\" alt=\"Open In Colab\"/></a>"
      ]
    },
    {
      "cell_type": "code",
      "metadata": {
        "id": "nn83TgNA-qRO",
        "colab_type": "code",
        "colab": {}
      },
      "source": [
        "#!pip3 install --upgrade tensorflow\n",
        "import tensorflow as tf"
      ],
      "execution_count": 0,
      "outputs": []
    },
    {
      "cell_type": "code",
      "metadata": {
        "id": "1OmhXYh1-7t5",
        "colab_type": "code",
        "outputId": "cfa85d0e-abd0-4a9b-851c-efd00d2542da",
        "colab": {
          "base_uri": "https://localhost:8080/",
          "height": 35
        }
      },
      "source": [
        "print(tf.__version__)"
      ],
      "execution_count": 2,
      "outputs": [
        {
          "output_type": "stream",
          "text": [
            "1.14.0\n"
          ],
          "name": "stdout"
        }
      ]
    },
    {
      "cell_type": "code",
      "metadata": {
        "id": "WvFa4fygAUCj",
        "colab_type": "code",
        "colab": {}
      },
      "source": [
        "x = tf.Variable(8)\n",
        "f = x*x\n"
      ],
      "execution_count": 0,
      "outputs": []
    },
    {
      "cell_type": "markdown",
      "metadata": {
        "id": "z3_lEcKq11aQ",
        "colab_type": "text"
      },
      "source": [
        "1.tf.Variable() used to declare a variable which is not initialised until the init() func is called\n",
        "\n",
        "2.f = x*x denotes a computational graph and not a mathematical calc \n",
        "\n",
        "3.f is a tensor object "
      ]
    },
    {
      "cell_type": "code",
      "metadata": {
        "id": "Ju4EeaLmD1rR",
        "colab_type": "code",
        "outputId": "bdc3bddd-42ca-4e2f-eac8-3cb14e7d7113",
        "colab": {
          "base_uri": "https://localhost:8080/",
          "height": 52
        }
      },
      "source": [
        "##2 methods of initialisation :: ##global initialisation vs individual initialisation as session is responsible for the actual computation within the block (Since Session is a block of execution it comes as Session()) \n",
        "##All of these are methods as they create instances of these classes when invoked \n",
        "\n",
        "\n",
        "#INDIVIDUAL with session not defined as default\n",
        "\n",
        "sess = tf.Session()\n",
        "sess.run(x.initializer)\n",
        "sess.run(f)\n",
        "sess.close()\n",
        "\n",
        "#INDIVIDUAL with session defined as default \n",
        "with tf.Session() as sess:\n",
        "  x.initializer.run()\n",
        "  print(f.eval())\n",
        "\n",
        "#GLOBAL init\n",
        "init = tf.global_variables_initializer()\n",
        "\n",
        "with tf.Session() as sess:\n",
        "  init.run()\n",
        "  print(f.eval())\n",
        "\n",
        "# with tf.Session as sess:\n",
        "#   x.initializer.run()\n"
      ],
      "execution_count": 4,
      "outputs": [
        {
          "output_type": "stream",
          "text": [
            "64\n",
            "64\n"
          ],
          "name": "stdout"
        }
      ]
    },
    {
      "cell_type": "markdown",
      "metadata": {
        "id": "9Tikwbax3Z7k",
        "colab_type": "text"
      },
      "source": [
        "Phase of making graphs - computation phase \n",
        "Phase of testing graphs - execution phase "
      ]
    },
    {
      "cell_type": "code",
      "metadata": {
        "id": "eu0Z3MgpEOgf",
        "colab_type": "code",
        "outputId": "8298e2db-4d32-4cfd-abed-5635a3d81417",
        "colab": {
          "base_uri": "https://localhost:8080/",
          "height": 52
        }
      },
      "source": [
        "sess = tf.Session()\n",
        "sess.run(x.initializer)\n",
        "\n",
        "## shows that this is not a \n",
        "print(f)\n",
        "print(f.eval(session = sess))"
      ],
      "execution_count": 5,
      "outputs": [
        {
          "output_type": "stream",
          "text": [
            "Tensor(\"mul:0\", shape=(), dtype=int32)\n",
            "64\n"
          ],
          "name": "stdout"
        }
      ]
    },
    {
      "cell_type": "code",
      "metadata": {
        "id": "JSLrZJCHW8zu",
        "colab_type": "code",
        "colab": {
          "base_uri": "https://localhost:8080/",
          "height": 87
        },
        "outputId": "9b600423-b9c1-41cd-8a75-e3470320485c"
      },
      "source": [
        "##Variables can be shared across all graphs \n",
        "##Node values on the other hand will be cleared once the graph execution is complete \n",
        "\n",
        "w = tf.constant(64)\n",
        "n = w+x\n",
        "print(w)\n",
        "init = tf.global_variables_initializer()\n",
        "\n",
        "with tf.Session() as sess:\n",
        "  init.run()\n",
        "  print(w) \n",
        "  print(w.eval())\n",
        "  \n",
        "print(w)\n",
        "\n"
      ],
      "execution_count": 18,
      "outputs": [
        {
          "output_type": "stream",
          "text": [
            "Tensor(\"Const_12:0\", shape=(), dtype=int32)\n",
            "Tensor(\"Const_12:0\", shape=(), dtype=int32)\n",
            "64\n",
            "Tensor(\"Const_12:0\", shape=(), dtype=int32)\n"
          ],
          "name": "stdout"
        }
      ]
    },
    {
      "cell_type": "code",
      "metadata": {
        "id": "saaMaRX4gkOk",
        "colab_type": "code",
        "colab": {}
      },
      "source": [
        "## Computing multiple values in a graph simulateneously "
      ],
      "execution_count": 0,
      "outputs": []
    }
  ]
}